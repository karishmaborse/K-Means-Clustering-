{
 "cells": [
  {
   "cell_type": "code",
   "execution_count": 1,
   "metadata": {},
   "outputs": [],
   "source": [
    "import numpy as np\n",
    "import matplotlib.pyplot as plt\n",
    "import pandas as pd"
   ]
  },
  {
   "cell_type": "code",
   "execution_count": 2,
   "metadata": {},
   "outputs": [],
   "source": [
    "dataset = pd.read_csv('BMI_Index.csv')\n"
   ]
  },
  {
   "cell_type": "markdown",
   "metadata": {},
   "source": [
    "# Converting the Gender as numerical assignment."
   ]
  },
  {
   "cell_type": "code",
   "execution_count": 3,
   "metadata": {},
   "outputs": [],
   "source": [
    "# creating a dict file  \n",
    "gender = {'Male': 1,'Female': 2} \n",
    "# traversing through dataframe \n",
    "# Gender column and writing \n",
    "# values where key matches \n",
    "dataset.Gender = [gender[item] for item in dataset.Gender] \n",
    "#print(dataset) "
   ]
  },
  {
   "cell_type": "code",
   "execution_count": 16,
   "metadata": {},
   "outputs": [],
   "source": [
    "X = dataset.iloc[:, [0,3]].values # I have excluded the dependent variable Obesity Index\n"
   ]
  },
  {
   "cell_type": "markdown",
   "metadata": {},
   "source": [
    "# Using the Elbow Method to find the optimal number of clusters"
   ]
  },
  {
   "cell_type": "code",
   "execution_count": 17,
   "metadata": {
    "scrolled": true
   },
   "outputs": [
    {
     "data": {
      "image/png": "[encoded data removed]",
      "text/plain": [
       "<Figure size 432x288 with 1 Axes>"
      ]
     },
     "metadata": {
      "needs_background": "light"
     },
     "output_type": "display_data"
    }
   ],
   "source": [
    "from sklearn.cluster import KMeans\n",
    "wcss = []\n",
    "for i in range(1, 11):\n",
    "    kmeans = KMeans(n_clusters = i, init = 'k-means++', random_state = 42)\n",
    "    kmeans.fit(X)\n",
    "    wcss.append(kmeans.inertia_)\n",
    "plt.plot(range(1, 11), wcss)\n",
    "plt.title('The Elbow Method')\n",
    "plt.xlabel('Number of clusters')\n",
    "plt.ylabel('WCSS')\n",
    "plt.show()"
   ]
  },
  {
   "cell_type": "markdown",
   "metadata": {},
   "source": [
    "According to the graph above the Elbow method curve has started to bend from the point 3, hence the optimum number of centroid and clusters will be 3."
   ]
  },
  {
   "cell_type": "markdown",
   "metadata": {},
   "source": [
    "# Training K-means model on the dataset.\n"
   ]
  },
  {
   "cell_type": "code",
   "execution_count": 29,
   "metadata": {},
   "outputs": [],
   "source": [
    "kmeans = KMeans(n_clusters = 3, init = 'k-means++', random_state = 42)\n",
    "y_kmeans = kmeans.fit_predict(X)#Predicting the cluster type"
   ]
  },
  {
   "cell_type": "code",
   "execution_count": 30,
   "metadata": {},
   "outputs": [
    {
     "name": "stdout",
     "output_type": "stream",
     "text": [
      "[0 1 0 0 0 0 2 2 0 0 1 0 0 1 1 2 2 2 2 2 2 2 0 2 1 0 0 1 2 2 2 1 1 2 2 0 0\n",
      " 0 2 1 0 2 1 2 0 1 0 0 0 2 2 1 2 0 0 0 0 2 0 2 1 2 1 1 2 2 0 1 0 0 1 0 2 1\n",
      " 0 0 0 0 0 1 0 2 0 0 2 1 2 2 2 2 2 0 0 1 0 2 0 2 1 1 0 2 2 0 0 0 2 2 0 0 0\n",
      " 2 0 1 0 0 1 2 2 2 0 0 0 2 2 0 0 0 2 1 2 1 2 0 2 2 2 0 2 2 1 0 2 2 2 0 0 2\n",
      " 0 0 1 0 0 2 2 0 0 2 0 0 1 1 0 2 0 1 0 2 0 1 0 2 2 0 0 0 0 0 2 0 0 0 0 1 0\n",
      " 0 2 0 2 0 2 2 0 2 2 2 0 0 2 2 1 0 0 0 2 0 2 0 0 0 0 2 2 2 1 2 2 2 2 2 1 2\n",
      " 0 2 1 2 0 0 2 2 0 1 0 0 0 0 2 2 1 2 0 1 1 2 1 2 0 2 0 0 0 2 2 2 2 1 0 2 2\n",
      " 0 2 2 2 1 0 2 2 2 2 1 2 2 0 1 0 0 0 1 0 1 1 2 2 0 0 0 0 2 1 2 0 0 0 0 2 2\n",
      " 1 0 0 0 2 0 1 0 2 0 2 2 1 2 2 2 2 1 1 2 0 2 0 2 0 0 2 2 0 1 1 0 0 0 2 0 1\n",
      " 1 1 1 2 2 0 2 0 0 0 0 0 0 1 1 2 1 1 1 1 2 1 0 0 2 1 0 1 0 2 0 2 2 0 0 2 0\n",
      " 0 2 1 1 0 2 2 2 2 0 2 1 0 2 2 1 2 0 0 1 1 1 1 0 2 0 0 2 0 2 0 0 1 0 0 2 1\n",
      " 2 2 2 1 0 2 2 2 0 2 1 2 1 1 2 2 0 1 1 0 0 0 0 1 2 2 0 1 2 2 2 1 2 0 1 2 2\n",
      " 0 2 0 0 2 2 2 0 2 1 1 1 0 1 0 2 0 2 1 2 1 2 0 2 2 0 2 2 1 2 0 0 2 1 1 2 2\n",
      " 0 2 0 0 0 2 1 0 2 1 2 1 1 2 2 0 2 2 2]\n"
     ]
    }
   ],
   "source": [
    "print(y_kmeans)"
   ]
  },
  {
   "cell_type": "markdown",
   "metadata": {},
   "source": [
    "In the above output according to the python indexing person of id 1 belongs to the cluster 3. Which means clusters have been created like 0,1,2."
   ]
  },
  {
   "cell_type": "code",
   "execution_count": 34,
   "metadata": {},
   "outputs": [
    {
     "data": {
      "image/png": "[encoded data removed]",
      "text/plain": [
       "<Figure size 432x288 with 1 Axes>"
      ]
     },
     "metadata": {
      "needs_background": "light"
     },
     "output_type": "display_data"
    }
   ],
   "source": [
    "plt.scatter(X[y_kmeans == 0, 0], X[y_kmeans == 0, 1], s = 100, c = 'red', label = 'Cluster 1')\n",
    "plt.scatter(X[y_kmeans == 1, 0], X[y_kmeans == 1, 1], s = 100, c = 'blue', label = 'Cluster 2')\n",
    "plt.scatter(X[y_kmeans == 2, 0], X[y_kmeans == 2, 1], s = 100, c = 'green', label = 'Cluster 3')\n",
    "\n",
    "\n",
    "plt.scatter(kmeans.cluster_centers_[:, 0], kmeans.cluster_centers_[:, 1], s = 300, c = 'yellow', label = 'Centroids')\n",
    "plt.title('Clusters of Diets')\n",
    "plt.xlabel('Gender 1=Male, 2=Female')\n",
    "plt.ylabel('Obesity Index')\n",
    "#plt.legend()\n",
    "plt.show()"
   ]
  }
 ],
 "metadata": {
  "kernelspec": {
   "display_name": "Python 3",
   "language": "python",
   "name": "python3"
  },
  "language_info": {
   "codemirror_mode": {
    "name": "ipython",
    "version": 3
   },
   "file_extension": ".py",
   "mimetype": "text/x-python",
   "name": "python",
   "nbconvert_exporter": "python",
   "pygments_lexer": "ipython3",
   "version": "3.7.3"
  }
 },
 "nbformat": 4,
 "nbformat_minor": 2
}
